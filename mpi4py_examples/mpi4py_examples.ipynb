{
 "cells": [
  {
   "cell_type": "markdown",
   "metadata": {
    "collapsed": true
   },
   "source": [
    "# MPI for Python."
   ]
  },
  {
   "cell_type": "markdown",
   "metadata": {
    "collapsed": true
   },
   "source": [
    "MPI is a standardized and portable message-passing system designed to function on a wide variety of parallel computers. The standard defines the syntax and semantics of library routines. MPI for Python provides an object oriented approach to message passing which grounds on the standard MPI-2 C++ bindings. The interface was desined with focus in translating MPI syntax and semantics of standard MPI-2 bindings for C++ to Python. [1]"
   ]
  },
  {
   "cell_type": "markdown",
   "metadata": {},
   "source": [
    "## mpi4py basics."
   ]
  },
  {
   "cell_type": "markdown",
   "metadata": {},
   "source": [
    "In MPI for Python, `Comm` is the base class of communicators. The two available predefined intracommunicator instances are `COMM_SELF` and `COMM_WORLD`. The number of processes in a communicator and the calling process rank can be respectively obtained with methods `Get_size()` and `Get_rank()`."
   ]
  },
  {
   "cell_type": "code",
   "execution_count": null,
   "metadata": {
    "collapsed": false
   },
   "outputs": [],
   "source": [
    "!cat communicator.py"
   ]
  },
  {
   "cell_type": "markdown",
   "metadata": {},
   "source": [
    "To run an MPI-enabled Python application, one can use command **`mpirun -np .. python3 myprog.py`**, where users can specify how many processes MPI should start. The `mpirun` command below starts five-processes to run the `communicator.py` script. Each process gets the total number of processes and its own rank number."
   ]
  },
  {
   "cell_type": "code",
   "execution_count": null,
   "metadata": {
    "collapsed": false
   },
   "outputs": [],
   "source": [
    "!mpirun -np 5 python3 communicator.py"
   ]
  },
  {
   "cell_type": "markdown",
   "metadata": {},
   "source": [
    "To look up the communication function definition, one can use `help(...)` as shown below."
   ]
  },
  {
   "cell_type": "code",
   "execution_count": null,
   "metadata": {
    "collapsed": false
   },
   "outputs": [],
   "source": [
    "from mpi4py import MPI\n",
    "help(MPI.COMM_WORLD.Get_rank)"
   ]
  },
  {
   "cell_type": "markdown",
   "metadata": {},
   "source": [
    "## Point-to-Point Communications."
   ]
  },
  {
   "cell_type": "markdown",
   "metadata": {},
   "source": [
    "Point to point communication enables the transmission of data between a pair of processes, one side sending, the other reciving. MPI provides a set of *send* and *receive* functions allowing the communication of *typed* data with an associated *tag*."
   ]
  },
  {
   "cell_type": "markdown",
   "metadata": {},
   "source": [
    "### Blocking Communications."
   ]
  },
  {
   "cell_type": "markdown",
   "metadata": {},
   "source": [
    "Blocking functions in MPI block the caller until the data buffers involved in the communication can be safely reused by the application program."
   ]
  },
  {
   "cell_type": "code",
   "execution_count": null,
   "metadata": {
    "collapsed": false
   },
   "outputs": [],
   "source": [
    "!cat p2psendrecv.py"
   ]
  },
  {
   "cell_type": "code",
   "execution_count": null,
   "metadata": {
    "collapsed": false
   },
   "outputs": [],
   "source": [
    "!mpirun -np 2 python3 p2psendrecv.py"
   ]
  },
  {
   "cell_type": "markdown",
   "metadata": {},
   "source": [
    "### Nonblocking Communications."
   ]
  },
  {
   "cell_type": "markdown",
   "metadata": {},
   "source": [
    "Nonblocking send and receive functions return immediately after *send/receive* operation. This means the process can continue to do something else, e.g. computation and check the status of the *send/receive* operation later.\n",
    "This gives the possibility of overlapping communication and computation, such that the performance of the program can be increased."
   ]
  },
  {
   "cell_type": "code",
   "execution_count": null,
   "metadata": {
    "collapsed": false
   },
   "outputs": [],
   "source": [
    "!cat p2pisendirecv.py"
   ]
  },
  {
   "cell_type": "code",
   "execution_count": null,
   "metadata": {
    "collapsed": false
   },
   "outputs": [],
   "source": [
    "!mpirun -np 2 python3 p2pisendirecv.py"
   ]
  },
  {
   "cell_type": "markdown",
   "metadata": {},
   "source": [
    "MPI for Python can communicate any built-in or user-defined Python object by using the Python pickle module under the hood.\n",
    "It also supports direct communication of any object exporting the single-segment buffer interface (e.g. Numpy arrays) with negligible overhead.\n",
    "As seen in the above examples, communication of generic Python objects makes use of **all-lowercase** methods of the `Comm` class, i.e. `send()`, `recv()`, `isend()`, etc.\n",
    "To communicate buffer-like objects, one has to use method names starting with an **upper-case** letter, like `Send()`, `Recv()`, `Bcast()`, etc."
   ]
  },
  {
   "cell_type": "code",
   "execution_count": null,
   "metadata": {
    "collapsed": false
   },
   "outputs": [],
   "source": [
    "!cat p2pnumpysendrecv.py"
   ]
  },
  {
   "cell_type": "code",
   "execution_count": null,
   "metadata": {
    "collapsed": false
   },
   "outputs": [],
   "source": [
    "!mpirun -np 2 python3 p2pnumpysendrecv.py"
   ]
  },
  {
   "cell_type": "markdown",
   "metadata": {},
   "source": [
    "**Exercise:**\n",
    "\n",
    "Modify `p2psendrecv.py` to communicate 1000 integers. How long does the communication take?Compare the results with the ones obtained from `p2pnumpysendrecv.py` (the example above).\n",
    "Which one is faster?"
   ]
  },
  {
   "cell_type": "markdown",
   "metadata": {},
   "source": [
    "## Collective Communications."
   ]
  },
  {
   "cell_type": "markdown",
   "metadata": {},
   "source": [
    "Collective communications allow the communication of data between multiple processes of a group simultaneously. Collective functions come in blocking versions only.\n",
    "\n",
    "![Alt text](collective_comm.gif)\n",
    "\n",
    "The *bcast* collective communication function broadcasts data from one member to all members of a group."
   ]
  },
  {
   "cell_type": "code",
   "execution_count": null,
   "metadata": {
    "collapsed": false
   },
   "outputs": [],
   "source": [
    "!cat bcastnumpy.py"
   ]
  },
  {
   "cell_type": "code",
   "execution_count": null,
   "metadata": {
    "collapsed": false
   },
   "outputs": [],
   "source": [
    "!mpirun -np 2 python3 bcastnumpy.py"
   ]
  },
  {
   "cell_type": "markdown",
   "metadata": {},
   "source": [
    "The *gather* collective communication function gathers data from all members to one member of a group."
   ]
  },
  {
   "cell_type": "code",
   "execution_count": null,
   "metadata": {
    "collapsed": false
   },
   "outputs": [],
   "source": [
    "!cat gathernumpy.py"
   ]
  },
  {
   "cell_type": "code",
   "execution_count": null,
   "metadata": {
    "collapsed": false
   },
   "outputs": [],
   "source": [
    "!mpirun -np 2 python3 gathernumpy.py"
   ]
  },
  {
   "cell_type": "code",
   "execution_count": null,
   "metadata": {
    "collapsed": false
   },
   "outputs": [],
   "source": [
    "!cat scatternumpy.py"
   ]
  },
  {
   "cell_type": "code",
   "execution_count": null,
   "metadata": {
    "collapsed": false
   },
   "outputs": [],
   "source": [
    "!mpirun -np 2 python3 scatternumpy.py"
   ]
  },
  {
   "cell_type": "markdown",
   "metadata": {},
   "source": [
    "What do you think the reduction collective communication function does? Can you figure it out from the image shown above?"
   ]
  },
  {
   "cell_type": "code",
   "execution_count": null,
   "metadata": {
    "collapsed": false
   },
   "outputs": [],
   "source": [
    "help(MPI.COMM_WORLD.Reduce)"
   ]
  },
  {
   "cell_type": "markdown",
   "metadata": {},
   "source": [
    "**Exercise**:\n",
    "\n",
    "Let each MPI process create a 10-elements numpy array, initialized with its own rank number.\n",
    "Let process 0 calculate the total sum of all numpy arrays element-wise.\n",
    "You can use the hints and template given below.\n",
    "\n",
    "```\n",
    "from mpi4py import MPI\n",
    "import numpy as np\n",
    "\n",
    "comm = MPI.COMM_WORLD\n",
    "rank =                 # get process rank\n",
    "size =                 # get total number of processes\n",
    "\n",
    "sendbuf = np.zeros(10, dtype='i') + rank\n",
    "recvbuf = None\n",
    "if rank == 0:\n",
    "  recvbuf = np.zeros(10, dtype='i')\n",
    "comm.Reduce(, , op= , root=0)    # What should be reduced? And which operation is used?\n",
    "\n",
    "if rank == 0:\n",
    "  sum = sum(range(size))\n",
    "  assert (recvbuf[:]==sum).all()\n",
    "  print(recvbuf)\n",
    "```\n",
    "\n",
    "The result of the exercise should look like:\n",
    "\n",
    "```\n",
    "$mpirun -np 4 python3 reducenumpy.py \n",
    "[6 6 6 6 6 6 6 6 6 6]\n",
    "```\n",
    "\n",
    "```\n",
    "$mpirun -np 5 python3 reducenumpy.py \n",
    "[10 10 10 10 10 10 10 10 10 10]\n",
    "```"
   ]
  },
  {
   "cell_type": "markdown",
   "metadata": {},
   "source": [
    "## Example: Kmeans clustering."
   ]
  },
  {
   "cell_type": "markdown",
   "metadata": {},
   "source": [
    "k-means clustering is a method of vector quantization, originally from signal processing, that is popular for cluster analysis in data mining. k-means clustering aims to partition n observations into k clusters in which each observation belongs to the cluster with the nearest mean, serving as a prototype of the cluster. [2]\n",
    "\n",
    "Below is a serial implementation of Kmeans clustering, where we try the different values of K ranging from 1 to 40. We can see from the result that, the returned score of the different K values does not change much anymore after K=3. This code is a modification of the original code shown at [3]."
   ]
  },
  {
   "cell_type": "code",
   "execution_count": null,
   "metadata": {
    "collapsed": false
   },
   "outputs": [],
   "source": [
    "import pandas\n",
    "import pylab as pl\n",
    "from sklearn.cluster import KMeans\n",
    "from sklearn.decomposition import PCA\n",
    "import time\n",
    " \n",
    "variables = pandas.read_csv('sample_stocks.csv')\n",
    "\n",
    "Y = variables[['returns']]\n",
    "\n",
    "X = variables[['dividendyield']]\n",
    "\n",
    "start = time.time()\n",
    "\n",
    "Nc = range(1, 40)\n",
    "kmeans = [KMeans(n_clusters=i) for i in Nc]\n",
    "kmeans\n",
    "\n",
    "score = [kmeans[i].fit(Y).score(Y) for i in range(len(kmeans))]\n",
    "score\n",
    "stop = time.time()\n",
    "\n",
    "elapsed = stop - start\n",
    "\n",
    "print('Elapsed time: %f seconds' % elapsed)\n",
    "\n",
    "pl.plot(Nc,score)\n",
    "\n",
    "pl.xlabel('Number of Clusters')\n",
    "\n",
    "pl.ylabel('Score')\n",
    "\n",
    "pl.title('Elbow Curve')\n",
    "\n",
    "pl.show()"
   ]
  },
  {
   "cell_type": "markdown",
   "metadata": {},
   "source": [
    "Below is a parallel version of Kmeans clustering code presented above."
   ]
  },
  {
   "cell_type": "code",
   "execution_count": null,
   "metadata": {
    "collapsed": false
   },
   "outputs": [],
   "source": [
    "!cat kmeans.py"
   ]
  },
  {
   "cell_type": "code",
   "execution_count": null,
   "metadata": {
    "collapsed": false
   },
   "outputs": [],
   "source": [
    "!mpirun -np 2 python3 kmeans.py"
   ]
  },
  {
   "cell_type": "code",
   "execution_count": null,
   "metadata": {
    "collapsed": false
   },
   "outputs": [],
   "source": [
    "import pandas\n",
    "import numpy as np\n",
    "import pylab as pl\n",
    "from sklearn.cluster import KMeans\n",
    "from sklearn.decomposition import PCA\n",
    " \n",
    "variables = pandas.read_csv('sample_stocks.csv')\n",
    "Y = variables[['returns']]\n",
    "X = variables[['dividendyield']]\n",
    "\n",
    "pca = PCA(n_components=1).fit(Y)\n",
    "pca_d = pca.transform(Y)\n",
    "pca_c = pca.transform(X)\n",
    "\n",
    "kmeans=KMeans(n_clusters=3)\n",
    "kmeansoutput=kmeans.fit(Y)\n",
    "\n",
    "pl.figure('3 Cluster K-Means')\n",
    "pl.scatter(pca_c[:, 0], pca_d[:, 0], c=kmeansoutput.labels_)\n",
    "pl.xlabel('Dividend Yield')\n",
    "pl.ylabel('Returns')\n",
    "pl.title('3 Cluster K-Means')\n",
    "\n",
    "pl.show()"
   ]
  },
  {
   "cell_type": "markdown",
   "metadata": {},
   "source": [
    "## Example: Matrix Vector multiplication."
   ]
  },
  {
   "cell_type": "markdown",
   "metadata": {},
   "source": [
    "Serial version of Matrix Vector multiplication."
   ]
  },
  {
   "cell_type": "code",
   "execution_count": null,
   "metadata": {
    "collapsed": false
   },
   "outputs": [],
   "source": [
    "\"\"\"\n",
    "Serial version of Matrix-Vector Multiplication.\n",
    "This code will run *iter* iterations of\n",
    "  v(t+1) = M * v(t)\n",
    "where v is a vector of length *size* and M a dense size*size\n",
    "matrix. \n",
    "\"\"\"\n",
    "\n",
    "import numpy as np\n",
    "from numpy.fft import fft2, ifft2\n",
    "from math import ceil, fabs\n",
    "import time\n",
    "\n",
    "size = 10000          # lengt of vector v\n",
    "iter = 50             # number of iterations to run\n",
    "\n",
    "# This is the complete vector\n",
    "vec = np.zeros(size)            # Every element zero...\n",
    "vec[0] = 1.0                    #  ... besides vec[0]\n",
    "\n",
    "mat =np.zeros([size, size] , dtype='f')\n",
    "mat[:,0] = 1.0\n",
    "start = time.time()\n",
    "\n",
    "for t in range(iter):\n",
    "  result = np.inner(mat, vec)\n",
    "\n",
    "stop = time.time()\n",
    "elapsed = stop - start    ### Stop stopwatch ###\n",
    "\n",
    "if fabs(result[iter]-1.0) > 0.01:\n",
    "    print(\"!! Error: Wrong result!\")\n",
    "\n",
    "print(\" %d iterations of size %d in %5.2fs: %5.2f iterations per second\" %\n",
    "    (iter, size, elapsed, iter/elapsed) \n",
    ")\n",
    "print(\"============================================================================\")"
   ]
  },
  {
   "cell_type": "markdown",
   "metadata": {},
   "source": [
    "Below is a parallel version of Matrix Vector multiplication implemented with mpi4py and numpy arrays. It is a modification of the original code provided at [4].\n",
    "\n",
    "Try different number of processes and see whether you get any speed up. Can you explain the result you get?"
   ]
  },
  {
   "cell_type": "code",
   "execution_count": null,
   "metadata": {
    "collapsed": false
   },
   "outputs": [],
   "source": [
    "!cat matvec.py"
   ]
  },
  {
   "cell_type": "code",
   "execution_count": null,
   "metadata": {
    "collapsed": false
   },
   "outputs": [],
   "source": [
    "!mpirun -np 4 python3 matvec.py"
   ]
  },
  {
   "cell_type": "markdown",
   "metadata": {},
   "source": [
    "## Example: Nbody simulation."
   ]
  },
  {
   "cell_type": "markdown",
   "metadata": {},
   "source": [
    "In physics and astronomy, an N-body simulation is a simulation of a dynamical system of particles, usually under the influence of physical forces, such as gravity. N-body simulations are widely used tools in astrophysics, from investigating the dynamics of few-body systems like the Earth-Moon-Sun system to understanding the evolution of the large-scale structure of the universe. [5]\n",
    "\n",
    "Below is a serial version of the Nbody simulation implemented in Python."
   ]
  },
  {
   "cell_type": "code",
   "execution_count": null,
   "metadata": {
    "collapsed": false
   },
   "outputs": [],
   "source": [
    "import numpy as np\n",
    "\n",
    "def remove_i(arr, i):\n",
    "  \"\"\"Drops the ith element of an array.\"\"\"\n",
    "  shape = (arr.shape[0]-1,) + arr.shape[1:]\n",
    "  new_arr = np.empty(shape, dtype=float)\n",
    "  new_arr[:i] = arr[:i]\n",
    "  new_arr[i:] = arr[i+1:]\n",
    "  return new_arr\n",
    "\n",
    "def acceleration(i, position, G, mass):\n",
    "  \"\"\"The acceleration of the ith mass.\"\"\"\n",
    "  ith_pos = position[i]\n",
    "  rest_pos = remove_i(position, i)\n",
    "  rest_mass = remove_i(mass, i)\n",
    "  diff = rest_pos - ith_pos\n",
    "  mag3 = np.sum(diff**2, axis=1)**1.5\n",
    "  result = G * np.sum(diff * (rest_mass / mag3)[:,np.newaxis], axis=0)\n",
    "  return result\n",
    "\n",
    "def timestep(position, velocity, G, mass, dt):\n",
    "  \"\"\"Computes the next position and velocity for all masses given\n",
    "  initial conditions and a time step size.\n",
    "  \"\"\"\n",
    "  N = len(position)\n",
    "  new_pos = np.empty(position.shape, dtype=float)\n",
    "  new_velocity = np.empty(velocity.shape, dtype=float)\n",
    "  for i in range(N):\n",
    "    acceleration_i = acceleration(i, position, G, mass)\n",
    "    new_velocity[i] = acceleration_i * dt + velocity[i]\n",
    "    new_pos[i] = acceleration_i * dt ** 2 + velocity[i] * dt + position[i]\n",
    "  return new_pos, new_velocity\n",
    "\n",
    "def initial_cond(N, Dim):\n",
    "  \"\"\"Generates initial conditions for N unity masses at rest\n",
    "  starting at random positions in D-dimensional space.\n",
    "  \"\"\"\n",
    "  position0 = np.random.rand(N, Dim)\n",
    "  velocity0 = np.zeros((N, Dim), dtype=float)\n",
    "  mass = np.ones(N, dtype=float)\n",
    "  return position0, velocity0, mass \n",
    "\n",
    "def simulate(timesteps, G, dt, position0, velocity0, mass):\n",
    "  \"\"\"N-body simulation of certain timesteps.\"\"\"\n",
    "  position, velocity = position0, velocity0\n",
    "  for step in range(timesteps):\n",
    "    new_pos, new_velocity = timestep(position, velocity, G, mass, dt)\n",
    "    position , velocity = new_pos, new_velocity\n",
    "  return position, velocity\n",
    "\n",
    "if __name__ == \"__main__\":\n",
    "  import time\n",
    "  import h5py\n",
    "\n",
    "  N = 256\n",
    "  # Initialize N-body conditions\n",
    "  # Set gravitational constant to 1\n",
    "  Dim = 3\n",
    "  G=1.0\n",
    "  dt = 1.0e-3\n",
    "  timesteps = 600\n",
    "  path = '/Users/zhengm/src/play/python/mpi4py/'\n",
    "  name = path + 'data_' + str(N).zfill(4) + 'nbody_seq.h5'\n",
    "\n",
    "  start = time.time()\n",
    "  position0, velocity0, mass = initial_cond(N, Dim)\n",
    "  position, velocity = simulate(timesteps, G, dt, position0, velocity0, mass)\n",
    "  stop = time.time()\n",
    "  elapsed = stop - start\n",
    "  print('Elapsed time is: %f seconds' % elapsed)  \n",
    "\n",
    "  with h5py.File(name, 'w') as hf:\n",
    "    hf.create_dataset('position', data=position)\n",
    "    hf.create_dataset('velocity', data=velocity)"
   ]
  },
  {
   "cell_type": "markdown",
   "metadata": {},
   "source": [
    "The exampe below is from the book \"Effective computation in Physics\" [6]. The aim of this example is to show how to use mpi4py. It is a relatively slow parallel implementation of the Nbody simulation."
   ]
  },
  {
   "cell_type": "code",
   "execution_count": null,
   "metadata": {
    "collapsed": false
   },
   "outputs": [],
   "source": [
    "!cat nbody_mpi4py_slow.py"
   ]
  },
  {
   "cell_type": "code",
   "execution_count": null,
   "metadata": {
    "collapsed": false
   },
   "outputs": [],
   "source": [
    "!mpirun -np 4 python3 nbody_mpi4py_slow.py"
   ]
  },
  {
   "cell_type": "markdown",
   "metadata": {},
   "source": [
    "Here is a Parallel version of the Nbody simulation implemented with mpi4py and numpy."
   ]
  },
  {
   "cell_type": "code",
   "execution_count": null,
   "metadata": {
    "collapsed": false
   },
   "outputs": [],
   "source": [
    "!cat nbody.py"
   ]
  },
  {
   "cell_type": "code",
   "execution_count": null,
   "metadata": {
    "collapsed": false
   },
   "outputs": [],
   "source": [
    "!mpirun -np 4 python3 nbody.py"
   ]
  },
  {
   "cell_type": "markdown",
   "metadata": {},
   "source": [
    "# References\n",
    "#### [1] http://mpi4py.scipy.org/docs/usrman/index.html\n",
    "#### [2] https://en.wikipedia.org/wiki/K-means_clustering\n",
    "#### [3] http://www.michaeljgrogan.com/k-means-clustering-python-sklearn/.\n",
    "#### [4] https://github.com/jbornschein/mpi4py-examples/blob/master/07-matrix-vector-product\n",
    "#### [5] https://en.wikipedia.org/wiki/N-body_simulation\n",
    "#### [6] http://shop.oreilly.com/product/0636920033424.do"
   ]
  }
 ],
 "metadata": {
  "kernelspec": {
   "display_name": "Python 3",
   "language": "python",
   "name": "python3"
  },
  "language_info": {
   "codemirror_mode": {
    "name": "ipython",
    "version": 3
   },
   "file_extension": ".py",
   "mimetype": "text/x-python",
   "name": "python",
   "nbconvert_exporter": "python",
   "pygments_lexer": "ipython3",
   "version": "3.6.0"
  }
 },
 "nbformat": 4,
 "nbformat_minor": 0
}
